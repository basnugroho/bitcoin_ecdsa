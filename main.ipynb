{
 "cells": [
  {
   "cell_type": "code",
   "execution_count": null,
   "metadata": {},
   "outputs": [],
   "source": [
    "import os\n",
    "import hashlib\n",
    "import base58\n",
    "from ecdsa import SigningKey, SECP256k1\n",
    "import bech32"
   ]
  },
  {
   "cell_type": "code",
   "execution_count": null,
   "metadata": {},
   "outputs": [],
   "source": [
    "# 1. Generate a 256-bit private key\n",
    "private_key_bytes = os.urandom(32)\n",
    "\n",
    "private_key_int = int.from_bytes(private_key_bytes) # Convert to decimal number\n",
    "print(\"Private Key (decimal):\", private_key_int)\n",
    "\n",
    "private_key_hex = private_key_bytes.hex()\n",
    "print(\"Private Key (hex):\", private_key_hex)\n",
    "\n",
    "wif = base58.b58encode(b'\\x80' + private_key_bytes + b'\\x01' + hashlib.sha256(hashlib.sha256(b'\\x80' + private_key_bytes + b'\\x01').digest()).digest()[:4]).decode()\n",
    "print(\"Private Key (WIF):\", wif) # used for wallet import format"
   ]
  },
  {
   "cell_type": "code",
   "execution_count": null,
   "metadata": {},
   "outputs": [],
   "source": [
    "# 2. Generate public key using secp256k1\n",
    "sk = SigningKey.from_string(private_key_bytes, curve=SECP256k1)\n",
    "vk = sk.verifying_key\n",
    "\n",
    "# Format uncompressed public key (0x04 + X + Y)\n",
    "public_key_bytes = b'\\x04' + vk.to_string()\n",
    "public_key_int = int.from_bytes(public_key_bytes)\n",
    "print(\"Public Key (decimal):\", public_key_int)\n",
    "public_key_hex = public_key_bytes.hex()\n",
    "print(\"Public Key (hex):\", public_key_hex)"
   ]
  },
  {
   "cell_type": "code",
   "execution_count": null,
   "metadata": {},
   "outputs": [],
   "source": [
    "# 3. Create Bitcoin address (Legacy)\n",
    "# Step 1: SHA-256 hash of the public key\n",
    "sha256_hash = hashlib.sha256(public_key_bytes).digest()\n",
    "\n",
    "# Step 2: RIPEMD-160 hash of the SHA-256 hash\n",
    "ripemd160 = hashlib.new('ripemd160')\n",
    "ripemd160.update(sha256_hash)\n",
    "hashed_pubkey = ripemd160.digest()\n",
    "\n",
    "# Step 3: Add version byte (0x00 for mainnet)\n",
    "versioned_payload = b'\\x00' + hashed_pubkey\n",
    "\n",
    "# Step 4: Create checksum (double SHA-256)\n",
    "checksum = hashlib.sha256(hashlib.sha256(versioned_payload).digest()).digest()[:4]\n",
    "\n",
    "# Step 5: Combine and encode with Base58Check\n",
    "full_payload = versioned_payload + checksum\n",
    "address = base58.b58encode(full_payload).decode()\n",
    "\n",
    "print(\"Bitcoin Address (Legacy):\", address)"
   ]
  },
  {
   "cell_type": "code",
   "execution_count": null,
   "metadata": {},
   "outputs": [],
   "source": [
    "# BITCOIN ADDRESS GENERATION\n",
    "\n",
    "# 1. Compress the public key (required for SegWit)\n",
    "pubkey_bytes = vk.to_string()\n",
    "x = pubkey_bytes[:32]\n",
    "y = pubkey_bytes[32:]\n",
    "prefix = b'\\x03' if int.from_bytes(y, 'big') % 2 else b'\\x02'\n",
    "compressed_pubkey = prefix + x\n",
    "print(\"Compressed Public Key (hex):\", compressed_pubkey.hex())\n",
    "\n",
    "# 2. Hash of the compressed public key (SHA-256 then RIPEMD-160)\n",
    "sha256 = hashlib.sha256(compressed_pubkey).digest()\n",
    "ripemd160 = hashlib.new('ripemd160', sha256).digest()\n",
    "\n",
    "# 3. Create Bitcoin address (P2WPKH - witness version 0)\n",
    "witness_version = 0\n",
    "witness_program = bech32.convertbits(ripemd160, 8, 5, True)\n",
    "segwit_address = bech32.bech32_encode(\"bc\", [witness_version] + witness_program)\n",
    "\n",
    "print(\"Bitcoin Address (SegWit ver):\", segwit_address)"
   ]
  },
  {
   "cell_type": "code",
   "execution_count": null,
   "metadata": {},
   "outputs": [],
   "source": []
  }
 ],
 "metadata": {
  "kernelspec": {
   "display_name": ".venv",
   "language": "python",
   "name": "python3"
  },
  "language_info": {
   "codemirror_mode": {
    "name": "ipython",
    "version": 3
   },
   "file_extension": ".py",
   "mimetype": "text/x-python",
   "name": "python",
   "nbconvert_exporter": "python",
   "pygments_lexer": "ipython3",
   "version": "3.12.9"
  }
 },
 "nbformat": 4,
 "nbformat_minor": 2
}
