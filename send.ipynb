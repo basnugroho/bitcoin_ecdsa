{
 "cells": [
  {
   "cell_type": "code",
   "execution_count": null,
   "metadata": {},
   "outputs": [],
   "source": [
    "from bitcoinrpc.authproxy import AuthServiceProxy\n",
    "from dotenv import load_dotenv\n",
    "import os\n",
    "import binascii"
   ]
  },
  {
   "cell_type": "code",
   "execution_count": null,
   "metadata": {},
   "outputs": [],
   "source": [
    "message = \"Hello :D\"\n",
    "receiver = \"1A1zP1eP5QGefi2DMPTfTL5SLmv7DivfNa\"\n",
    "amount = 0.00001"
   ]
  },
  {
   "cell_type": "code",
   "execution_count": null,
   "metadata": {},
   "outputs": [],
   "source": [
    "# Load environment variables\n",
    "load_dotenv()\n",
    "\n",
    "user = os.getenv(\"RPC_USER\")\n",
    "password = os.getenv(\"RPC_PASSWORD\")\n",
    "host = os.getenv(\"RPC_HOST\", \"127.0.0.1\")\n",
    "port = os.getenv(\"RPC_PORT\", \"8332\")\n",
    "\n",
    "# Connect to RPC\n",
    "# if you have more than one wallet, you can specify the wallet name (i.e for Youtube wallet) http://{user}:{password}@{host}:{port}/wallet/Youtube\n",
    "rpc = AuthServiceProxy(f\"http://{user}:{password}@{host}:{port}\")\n",
    "\n",
    "op_return_data = binascii.hexlify(message.encode()).decode()\n",
    "outputs = {\n",
    "    receiver: amount,\n",
    "    \"data\": op_return_data\n",
    "}\n"
   ]
  },
  {
   "cell_type": "code",
   "execution_count": null,
   "metadata": {},
   "outputs": [],
   "source": [
    "# Build, sign, finalize, and send transaction\n",
    "psbt = rpc.walletcreatefundedpsbt([], outputs)[\"psbt\"]\n",
    "signed_psbt = rpc.walletprocesspsbt(psbt)[\"psbt\"]\n",
    "raw_tx = rpc.finalizepsbt(signed_psbt)[\"hex\"]\n",
    "txid = rpc.sendrawtransaction(raw_tx)\n",
    "\n",
    "print(\"Transaction ID:\", txid)"
   ]
  },
  {
   "cell_type": "code",
   "execution_count": null,
   "metadata": {},
   "outputs": [],
   "source": []
  }
 ],
 "metadata": {
  "kernelspec": {
   "display_name": ".venv",
   "language": "python",
   "name": "python3"
  },
  "language_info": {
   "codemirror_mode": {
    "name": "ipython",
    "version": 3
   },
   "file_extension": ".py",
   "mimetype": "text/x-python",
   "name": "python",
   "nbconvert_exporter": "python",
   "pygments_lexer": "ipython3",
   "version": "3.12.9"
  }
 },
 "nbformat": 4,
 "nbformat_minor": 2
}
